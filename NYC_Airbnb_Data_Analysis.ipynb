{
  "cells": [
    {
      "cell_type": "markdown",
      "metadata": {
        "id": "view-in-github",
        "colab_type": "text"
      },
      "source": [
        "<a href=\"https://colab.research.google.com/github/Hajer45/9antra/blob/main/NYC_Airbnb_Data_Analysis.ipynb\" target=\"_parent\"><img src=\"https://colab.research.google.com/assets/colab-badge.svg\" alt=\"Open In Colab\"/></a>"
      ]
    },
    {
      "cell_type": "markdown",
      "id": "beceba56",
      "metadata": {
        "id": "beceba56"
      },
      "source": [
        "#**NYC Airbnb Data Analysis Project**\n",
        "\n",
        "**Welcome to the NYC Airbnb Data Analysis Project! 🏙️✨!**\n",
        "\n",
        "Get ready to dive into the **New York City Airbnb dataset**! In this project, we’ll be digging into real-world data to uncover trends, spot patterns, and gain valuable insights. You'll get hands-on experience with:\n",
        "\n",
        "- Data cleaning 🧹\n",
        "- Exploring relationships 🔍\n",
        "- Answering key questions ❓\n",
        "- Visualizing your findings 📊\n",
        "\n",
        "This is a fully interactive project designed to sharpen your data analysis skills and put into practice what you’ve learned in your Python for Data Analytics course! 🚀\n",
        "\n",
        "Ready to level up your skills?\n",
        "It’s time to roll up your sleeves and apply all that Python knowledge to a real dataset! Let’s make data analytics fun and insightful! 🌟\n",
        "\n"
      ]
    },
    {
      "cell_type": "markdown",
      "source": [
        "##**Important Steps Before You Begin**\n"
      ],
      "metadata": {
        "id": "Z4DijQrEX7hv"
      },
      "id": "Z4DijQrEX7hv"
    },
    {
      "cell_type": "markdown",
      "source": [
        "\n",
        "####**Create your own copy!** 📄\n",
        "\n",
        "Since you won't be able to edit this notebook directly, make sure to create a copy in your Google Drive to modify, run, and save your own work.\n",
        "\n",
        "Just go to **File** > **Save a copy in Drive**  before you begin."
      ],
      "metadata": {
        "id": "ejbE2C6RbbwA"
      },
      "id": "ejbE2C6RbbwA"
    },
    {
      "cell_type": "markdown",
      "source": [
        "####**What to Expect in This Notebook:**\n",
        "\n",
        "We’re diving into real-world data analyst tasks—cleaning, analyzing, and visualizing data. Think of it as a glimpse into the day-to-day life of a data analyst! 💼\n",
        "\n",
        "I’ve added comments in each section to explain the code and guide you through the process. But before you jump to the final solution and run code, let’s make it more fun:\n",
        "\n",
        "- **Give it a try first!** ✏️ : Write your own code and see what you come up with.\n",
        "- **Challenge yourself💪** : Think through each problem like a data pro before checking the answers.\n",
        "You’ll learn a lot more by figuring things out on your own—and trust me, it feels awesome to crack it yourself!\n",
        "\n",
        "Once you've tried, the solution will help you compare your approach and learn new tricks.\n",
        "\n",
        "\n",
        "\n"
      ],
      "metadata": {
        "id": "AATbO5RDYIk-"
      },
      "id": "AATbO5RDYIk-"
    },
    {
      "cell_type": "markdown",
      "source": [
        "## **Dataset Overview**  📊\n",
        "We are working with **the New York City Airbnb** dataset, which includes details about Airbnb listings across New York. The dataset contains valuable information such as neighborhood, price, room type, and availability of the listings.\n",
        "\n",
        "To better understand the dataset, I highly recommend checking the full description and metadata on [Kaggle](https://www.kaggle.com/datasets/vrindakallu/new-york-dataset). There you will find more details about the data, including the meaning of each column and how the dataset was collected.\n",
        "\n",
        "\n",
        "Let's import the necessary libraries and load the dataset!"
      ],
      "metadata": {
        "id": "hL8ZGtQhuBaQ"
      },
      "id": "hL8ZGtQhuBaQ"
    },
    {
      "cell_type": "code",
      "source": [
        "import kagglehub\n",
        "import os\n",
        "import pandas as pd\n",
        "import matplotlib.pyplot as plt\n",
        "import seaborn as sns\n",
        "\n",
        "path = kagglehub.dataset_download(\"vrindakallu/new-york-dataset\")\n",
        "df = pd.read_csv(f'{path}/new_york_listings_2024.csv')\n"
      ],
      "metadata": {
        "id": "AD-XpRlmigeQ"
      },
      "id": "AD-XpRlmigeQ",
      "execution_count": null,
      "outputs": []
    },
    {
      "cell_type": "markdown",
      "id": "f2bcc46a",
      "metadata": {
        "id": "f2bcc46a"
      },
      "source": [
        "## **Step 1: Exploring the DataFrame  🔍**\n"
      ]
    },
    {
      "cell_type": "markdown",
      "source": [
        "Once the dataset is loaded, you can explore its structure, columns, and some sample records.\n",
        "\n",
        "💡 **Hands-On Tip:**\n",
        "Make sure to explore the columns and rows to familiarize yourself with the data you're working with. Understanding the structure is essential for any data analysis task!\n"
      ],
      "metadata": {
        "id": "iUlrKYi_O304"
      },
      "id": "iUlrKYi_O304"
    },
    {
      "cell_type": "markdown",
      "source": [
        "####**Solution**"
      ],
      "metadata": {
        "id": "-oGbu-YnTzbc"
      },
      "id": "-oGbu-YnTzbc"
    },
    {
      "cell_type": "code",
      "execution_count": null,
      "id": "ffa09047",
      "metadata": {
        "id": "ffa09047"
      },
      "outputs": [],
      "source": [
        "# Display the first 5 rows of the DataFrame\n",
        "df.head()\n"
      ]
    },
    {
      "cell_type": "code",
      "source": [
        "# Get a summary of the DataFrame (columns, data types, and missing values)\n",
        "df.info()"
      ],
      "metadata": {
        "id": "FvTBx3hUxBZX"
      },
      "id": "FvTBx3hUxBZX",
      "execution_count": null,
      "outputs": []
    },
    {
      "cell_type": "code",
      "source": [
        "# Check basic statistics for numerical columns\n",
        "df.describe()"
      ],
      "metadata": {
        "id": "Ad8UM-_7xFbY"
      },
      "id": "Ad8UM-_7xFbY",
      "execution_count": null,
      "outputs": []
    },
    {
      "cell_type": "markdown",
      "id": "8bf29281",
      "metadata": {
        "id": "8bf29281"
      },
      "source": [
        "## **Step 2: Data Cleaning**  🧹\n",
        "\n"
      ]
    },
    {
      "cell_type": "markdown",
      "source": [
        "In any data analysis project, it's essential to ensure that the data is clean before diving into analysis. Typically, this involves handling missing values, checking for duplicates, and ensuring that the data types are correct. However, after performing these checks, we can conclude that our dataset is already well-prepared for analysis.\n",
        "\n",
        "**Key Data Cleaning Steps to Consider:**\n",
        "\n",
        "1.   **Missing Values**: Usually, we would handle missing values by either filling or removing them.\n",
        "2. **Duplicate Rows**: It's important to check for duplicates to avoid redundant data that can skew analysis.\n",
        "3. **Data Types**: Another important step is to ensure that columns have the correct data types. We inspected the data types and found everything to be in order. If needed, we could have adjusted the types of some columns (e.g., converting numerical columns or date formats).\n"
      ],
      "metadata": {
        "id": "pzsh9kPfOyqP"
      },
      "id": "pzsh9kPfOyqP"
    },
    {
      "cell_type": "markdown",
      "source": [
        "#### **Solution**"
      ],
      "metadata": {
        "id": "EHwAwbvHThzt"
      },
      "id": "EHwAwbvHThzt"
    },
    {
      "cell_type": "code",
      "execution_count": null,
      "id": "5079f223",
      "metadata": {
        "id": "5079f223"
      },
      "outputs": [],
      "source": [
        "# Checking for missing values\n",
        "missing_data = df.isnull().sum()\n",
        "print(\"Missing values:\\n\", missing_data)\n"
      ]
    },
    {
      "cell_type": "code",
      "source": [
        "# Checking for duplicate rows\n",
        "duplicates = df.duplicated()\n",
        "print(f\"Number of duplicate rows: {duplicates.sum()}\")\n"
      ],
      "metadata": {
        "id": "nL1WNMXkzMz7"
      },
      "id": "nL1WNMXkzMz7",
      "execution_count": null,
      "outputs": []
    },
    {
      "cell_type": "code",
      "source": [
        "# Example of data type conversion (not needed here but typically useful)\n",
        "df['last_review'] = pd.to_datetime(df['last_review'], errors='coerce')\n"
      ],
      "metadata": {
        "id": "DA9mFuTP0aZE"
      },
      "id": "DA9mFuTP0aZE",
      "execution_count": null,
      "outputs": []
    },
    {
      "cell_type": "markdown",
      "source": [
        "After performing these checks, we found that the dataset is already clean and ready for analysis. This means no further data cleaning steps are necessary for now, so we can proceed directly to Exploratory Data Analysis (EDA). 🎉\n"
      ],
      "metadata": {
        "id": "XX687A6YTsNN"
      },
      "id": "XX687A6YTsNN"
    },
    {
      "cell_type": "markdown",
      "id": "0021215e",
      "metadata": {
        "id": "0021215e"
      },
      "source": [
        "## **Step 3: Exploratory Data Analysis (EDA)** 📈\n"
      ]
    },
    {
      "cell_type": "markdown",
      "source": [
        "Now that the dataset is cleaned, we can proceed with the exploratory data analysis (EDA). This step involves understanding the main trends, distributions, and relationships within the dataset.\n",
        "\n",
        "###**3.1. Basic Statistical Overview**\n",
        "\n",
        "Let's start by getting basic statistics of numerical columns"
      ],
      "metadata": {
        "id": "oSZF3B0lO8Ve"
      },
      "id": "oSZF3B0lO8Ve"
    },
    {
      "cell_type": "markdown",
      "source": [
        "####**Solution**"
      ],
      "metadata": {
        "id": "XAgAkHZgT-K3"
      },
      "id": "XAgAkHZgT-K3"
    },
    {
      "cell_type": "code",
      "source": [
        "# Describing only the relevant columns\n",
        "relevant_columns = ['price', 'minimum_nights', 'number_of_reviews',\n",
        "                    'reviews_per_month', 'calculated_host_listings_count',\n",
        "                    'availability_365', 'bedrooms', 'beds', 'baths', 'rating']\n",
        "\n",
        "df[relevant_columns].describe()\n"
      ],
      "metadata": {
        "id": "ft03DKX11HcL"
      },
      "id": "ft03DKX11HcL",
      "execution_count": null,
      "outputs": []
    },
    {
      "cell_type": "markdown",
      "source": [
        "\n",
        "Now let's dive into the results of the `describe()` function and the metrics we have in front of us, to gain a better understanding of the characteristics of this dataset:\n",
        "\n",
        " **Price**:\n",
        "- The average price of an Airbnb listing in New York City is around **\\$188** per night.\n",
        "- However, there’s a **wide variation** in prices, with some listings costing as low as **\\$10** and some reaching extreme outliers of **\\$100,000** (likely luxury or unique properties).\n",
        "- The high standard deviation (**\\$1022.80**) indicates that while most listings are in the lower range, a few **very high-priced listings** skew the data.\n",
        "\n",
        "**Minimum Nights**:\n",
        "- On average, hosts require a minimum stay of around **28 nights**, which is relatively high. This suggests that some listings are targeting **longer-term stays**.\n",
        "- While some listings allow **1-night stays**, others require a minimum stay of **1250 nights**, indicating long-term rental options for certain properties.\n",
        "\n",
        "**Number of Reviews**:\n",
        "- The average listing has received around **43 reviews**. However, this varies significantly, with some listings having only **1 review**, while others have up to **1865 reviews**, reflecting the popularity and frequency of bookings.\n",
        "\n",
        "\n",
        " **Reviews Per Month**:\n",
        "- On average, listings receive **1.26 reviews per month**, which suggests consistent booking activity.\n",
        "- Some listings receive as many as **75 reviews per month**, indicating extremely high turnover and popularity.\n",
        "\n",
        "\n",
        "**Host Listings**:\n",
        "- On average, hosts manage **18.8 listings**, which suggests that many hosts on the platform are **professional property managers**.\n",
        "- Some hosts manage only **1 listing**, typical of individual hosts, while the most active hosts manage up to **713 listings**, likely indicating commercial hosts.\n",
        "\n",
        "**Availability (365 Days)**:\n",
        "- Listings are available for an average of **206 days per year**, meaning many listings are booked or unavailable for a portion of the year.\n",
        "- Some listings are available for **365 days** a year, while others are fully booked (or unavailable) for the entire year.\n",
        "\n",
        "**Beds**:\n",
        "- The average listing offers **1.72 beds**, indicating that many properties are small, likely **1-bedroom apartments or studios**. The maximum number of beds in a listing is **42**, suggesting that there are some large, group-oriented properties.\n"
      ],
      "metadata": {
        "id": "kZyX-Wzf2Vua"
      },
      "id": "kZyX-Wzf2Vua"
    },
    {
      "cell_type": "markdown",
      "source": [
        "###**3.2. Visualizing Key Variables**\n"
      ],
      "metadata": {
        "id": "dLP6JONm2Vez"
      },
      "id": "dLP6JONm2Vez"
    },
    {
      "cell_type": "markdown",
      "source": [
        "Now let's walk through some focused visualizations based on the most relevant columns"
      ],
      "metadata": {
        "id": "EHHG6RikQZ-F"
      },
      "id": "EHHG6RikQZ-F"
    },
    {
      "cell_type": "markdown",
      "source": [
        "####**Solution**"
      ],
      "metadata": {
        "id": "2a4GY1CmUDf-"
      },
      "id": "2a4GY1CmUDf-"
    },
    {
      "cell_type": "code",
      "source": [
        "# Price distribution\n",
        "plt.figure(figsize=(10,6))\n",
        "sns.histplot(df['price'], bins=50, kde=True, color='teal')\n",
        "plt.title('Price Distribution of Airbnb Listings')\n",
        "plt.xlabel('Price (in USD)')\n",
        "plt.ylabel('Frequency')\n",
        "plt.show()\n"
      ],
      "metadata": {
        "id": "6JTYE1N04k11"
      },
      "id": "6JTYE1N04k11",
      "execution_count": null,
      "outputs": []
    },
    {
      "cell_type": "markdown",
      "source": [
        "In this plot, we attempted to visualize the full distribution of Airbnb listing prices. However, we can see that the vast majority of prices are clustered near $0, while the x-axis extends all the way up to \\$100,000. This is because there are some extremely high-priced listings (outliers) that skew the distribution and compress the visual representation of most listings. As a result, the bulk of listings, which are priced much lower, are squeezed into a very narrow section of the plot, making it difficult to see meaningful trends.\n",
        "\n",
        "To solve this, we will apply a price cap and only consider listings with prices up to \\$1000 to get a clearer view of the price distribution for the majority of listings.\n",
        "\n"
      ],
      "metadata": {
        "id": "_R2QiU_76NPj"
      },
      "id": "_R2QiU_76NPj"
    },
    {
      "cell_type": "code",
      "source": [
        "# Apply a cap to prices to remove extreme outliers\n",
        "filtered_df = df[df['price'] <= 1000]\n",
        "\n",
        "plt.figure(figsize=(10,6))\n",
        "sns.histplot(filtered_df['price'], bins=50, kde=True, color='teal')\n",
        "plt.title('Price Distribution of Airbnb Listings (Price <= $1000)')\n",
        "plt.xlabel('Price (in USD)')\n",
        "plt.ylabel('Frequency')\n",
        "plt.show()\n"
      ],
      "metadata": {
        "id": "TiBM2IO55IcP"
      },
      "id": "TiBM2IO55IcP",
      "execution_count": null,
      "outputs": []
    },
    {
      "cell_type": "markdown",
      "source": [
        "In this second plot, we restricted the dataset to only include listings priced at \\$1000 or below, which represents the vast majority of listings. As a result, we can now see a more detailed distribution:\n",
        "\n",
        "Most listings fall within the \\$50 to \\$300 range, with a peak around \\$150 per night.\n",
        "The distribution is right-skewed, meaning that while there are many affordable listings, a small number of higher-priced listings are still present.\n",
        "This plot gives a much clearer view of the typical prices for Airbnb listings in New York City, without the distortion caused by a few extreme outliers.\n"
      ],
      "metadata": {
        "id": "Kddy6S-b6cT8"
      },
      "id": "Kddy6S-b6cT8"
    },
    {
      "cell_type": "markdown",
      "source": [
        "##**Step 4: Interactive Visualization and Analytical Questions 🎯**\n",
        "\n",
        "\n"
      ],
      "metadata": {
        "id": "d_o9mYfu66_x"
      },
      "id": "d_o9mYfu66_x"
    },
    {
      "cell_type": "markdown",
      "source": [
        "Now that we've completed our exploratory data analysis (EDA), it's time to dive deeper into specific visualizations and key analytical questions. You'll answer key questions about the Airbnb data, step by step, with explanations and hands-on tasks.\n"
      ],
      "metadata": {
        "id": "3K3WLsx4PQF0"
      },
      "id": "3K3WLsx4PQF0"
    },
    {
      "cell_type": "markdown",
      "source": [
        "\n",
        "\n",
        "###**4.1. Understanding the Impact of Outliers Before Deeper Analysis**\n"
      ],
      "metadata": {
        "id": "EOY1qEe0PMSa"
      },
      "id": "EOY1qEe0PMSa"
    },
    {
      "cell_type": "markdown",
      "source": [
        "Before we dive into deeper analysis, remember that during EDA, we encountered an issue with outliers. Outliers are extreme values (in this case, extremely high prices) that can skew visualizations and make it difficult to see the true patterns where most data points fall.\n",
        "\n",
        "In our case, the presence of a few very expensive listings (outliers) distorted our price distribution visualizations, making it hard to analyze the more typical price range for most Airbnb listings.\n",
        "\n",
        "\n",
        "**Why Explore Price Distribution?**\n",
        "\n",
        "💡 To solve this, we need to take a step back and carefully explore how prices are distributed across all listings. This will help us:\n",
        "\n",
        "1. Understand the range of prices in the dataset.\n",
        "2. Identify the majority of listings that fall into reasonable price ranges.\n",
        "3. Find a way to group prices into meaningful categories that will help us visualize the data more clearly.\n",
        "\n",
        "To do this, we’ll group prices into bins that grow exponentially. This means we will have price ranges like **0-10,000, 10,000-20,000**, and so on. This approach helps handle the wide variation in prices by capturing listings in **small bins for low prices** (where most listings are) and **larger bins** for high prices (where only a few listings exist).\n",
        "\n",
        "👉 Let’s start by visualizing the distribution of prices using exponentially increasing bins. This will help you see where most Airbnb listings fall and identify whether there are significant numbers of listings with extremely high prices."
      ],
      "metadata": {
        "id": "P-SSsE-DPWrA"
      },
      "id": "P-SSsE-DPWrA"
    },
    {
      "cell_type": "markdown",
      "source": [
        "####**Solution**"
      ],
      "metadata": {
        "id": "ooeqTSH0UP5F"
      },
      "id": "ooeqTSH0UP5F"
    },
    {
      "cell_type": "code",
      "source": [
        "# Define price bins (exponentially increasing)\n",
        "bins = [0, 200, 400, 600, 1000, 10000,200000]\n",
        "\n",
        "# Create labels for the bins\n",
        "bin_labels = ['0-200', '200-400', '400-600', '600-1k', '1k-10k','10k-200k']\n",
        "\n",
        "# Assign each listing to a bin\n",
        "df['price_bin'] = pd.cut(df['price'], bins=bins, labels=bin_labels, include_lowest=True)\n",
        "\n",
        "# Plot the distribution of listings in each price bin\n",
        "plt.figure(figsize=(10,6))\n",
        "sns.countplot(x='price_bin', data=df, color='teal')\n",
        "plt.title('Distribution of Airbnb Listings by Price Range')\n",
        "plt.xlabel('Price Range (in USD)')\n",
        "plt.ylabel('Number of Listings')\n",
        "plt.show()\n",
        "\n",
        "\n"
      ],
      "metadata": {
        "id": "M2Ptwkzm6JYX"
      },
      "id": "M2Ptwkzm6JYX",
      "execution_count": null,
      "outputs": []
    },
    {
      "cell_type": "markdown",
      "source": [
        "\n",
        "Here’s an updated version of your conclusion based on the new image:\n",
        "\n",
        "We can notice that the majority of Airbnb listings fall within the **\\$0-200**  price range, with a significant portion of listings also priced between **\\$200-400**. There are fewer listings in the **\\$400-600**  range, and the number of listings dramatically decreases beyond **\\$600** .\n",
        "\n",
        "Only a small number of listings are priced above **\\$1,000** , and extremely high-priced listings (e.g., above **\\$10,000** ) represent a very small fraction of the data. These outliers can distort visualizations and make it difficult to focus on the majority of listings, which are priced at more typical levels.\n",
        "\n",
        "To improve clarity in our analysis moving forward, we will address these outliers by applying a price cap and filter on our data, allowing us to focus on the majority of Airbnb listings.\n"
      ],
      "metadata": {
        "id": "6VfCH3OK6JHa"
      },
      "id": "6VfCH3OK6JHa"
    },
    {
      "cell_type": "code",
      "source": [
        "filtered_df = df[df['price'] <= 10000]"
      ],
      "metadata": {
        "id": "JcGUSgVHHlYd"
      },
      "id": "JcGUSgVHHlYd",
      "execution_count": null,
      "outputs": []
    },
    {
      "cell_type": "markdown",
      "source": [
        "###**4.2. Visualizing Price Distribution Across Room Types**\n",
        "\n"
      ],
      "metadata": {
        "id": "hti6W1EMHrmZ"
      },
      "id": "hti6W1EMHrmZ"
    },
    {
      "cell_type": "markdown",
      "source": [
        "💡 **Objective:** Understand how prices vary between different room types. Do certain room types tend to be more expensive than others?\n",
        "\n",
        "👉 **Task:** Let's now visualize the price distribution across room types. This will give us an overview of how prices differ for room types like \"Entire home/apt,\" \"Private room,\" and \"Shared room.\"\n"
      ],
      "metadata": {
        "id": "Alpz1thrPmZQ"
      },
      "id": "Alpz1thrPmZQ"
    },
    {
      "cell_type": "markdown",
      "source": [],
      "metadata": {
        "id": "lxz81EoBXRLw"
      },
      "id": "lxz81EoBXRLw"
    },
    {
      "cell_type": "markdown",
      "source": [
        "####**Solution**"
      ],
      "metadata": {
        "id": "iNWVdlxNUUH7"
      },
      "id": "iNWVdlxNUUH7"
    },
    {
      "cell_type": "code",
      "source": [
        "# Define price bins\n",
        "bins = [0, 100, 200, 400, 800, 1000,10000]\n",
        "bin_labels = ['0-100', '100-200', '200-400', '400-800', '800-1000','1000-10000']\n",
        "\n",
        "# Add a new column for binned prices\n",
        "filtered_df['price_bin'] = pd.cut(filtered_df['price'], bins=bins, labels=bin_labels, include_lowest=True)\n",
        "\n",
        "# Create a binned bar plot for price distribution by room type\n",
        "plt.figure(figsize=(12,8))\n",
        "sns.countplot(x='price_bin', hue='room_type', data=filtered_df, palette='coolwarm')\n",
        "\n",
        "# Add a title and axis labels\n",
        "plt.title('Price Distribution by Room Type (Binned Price Ranges)', fontsize=16)\n",
        "plt.xlabel('Price Range (in USD)', fontsize=14)\n",
        "plt.ylabel('Number of Listings', fontsize=14)\n",
        "\n",
        "plt.xticks(fontsize=12)\n",
        "plt.yticks(fontsize=12)\n",
        "\n",
        "plt.legend(title='Room Type', fontsize=12)\n",
        "plt.grid(True, linestyle='--', alpha=0.7)\n",
        "\n",
        "plt.show()\n"
      ],
      "metadata": {
        "id": "FbhUj61oApl4"
      },
      "id": "FbhUj61oApl4",
      "execution_count": null,
      "outputs": []
    },
    {
      "cell_type": "markdown",
      "source": [
        "The majority of Airbnb listings are concentrated in the lower price ranges, particularly for **private rooms** and **entire homes/appartments**. This reinforces the notion that Airbnb is largely a platform for more affordable, short-term stays. As prices increase, the number of listings decreases significantly, with only a few high-end listings surpassing **$1000 USD**."
      ],
      "metadata": {
        "id": "lDoSiNGCIxsr"
      },
      "id": "lDoSiNGCIxsr"
    },
    {
      "cell_type": "markdown",
      "source": [
        "###**4.3. Relationship Between Price and Number of Reviews**\n",
        "\n"
      ],
      "metadata": {
        "id": "MlCxrU00HMYV"
      },
      "id": "MlCxrU00HMYV"
    },
    {
      "cell_type": "markdown",
      "source": [
        "💡 Objective: Do more expensive Airbnb listings receive more reviews? Let’s explore the relationship between the price of a listing and the number of reviews.**bold text**\n",
        "\n",
        "👉 Task: Create a scatter plot to visualize the relationship between price and number of reviews, still using the price cap of $10,000 to avoid the influence of extreme outliers."
      ],
      "metadata": {
        "id": "UL5FXWmIPqL2"
      },
      "id": "UL5FXWmIPqL2"
    },
    {
      "cell_type": "markdown",
      "source": [
        "####**Solution**"
      ],
      "metadata": {
        "id": "d6T-Ekq_UalF"
      },
      "id": "d6T-Ekq_UalF"
    },
    {
      "cell_type": "code",
      "source": [
        "plt.figure(figsize=(10,6))\n",
        "sns.scatterplot(x='price', y='number_of_reviews', data=filtered_df)\n",
        "plt.title('Relationship Between Price and Number of Reviews (Price <= $10,000)')\n",
        "plt.xlabel('Price (in USD)')\n",
        "plt.ylabel('Number of Reviews')\n",
        "plt.show()\n",
        "\n"
      ],
      "metadata": {
        "id": "xHmdO59BH8x2"
      },
      "id": "xHmdO59BH8x2",
      "execution_count": null,
      "outputs": []
    },
    {
      "cell_type": "markdown",
      "source": [
        "The scatter plot shows that:\n",
        "\n",
        "- **Lower-priced listings** (below $1,000 USD) tend to have more reviews, with many reaching over 500 reviews. This suggests that affordable listings are booked more often, leading to more reviews.\n",
        "\n",
        "- **Higher-priced listings** (above $2,000 USD) generally have fewer reviews, indicating that luxury or high-cost properties are booked less frequently, possibly catering to a more selective audience.\n",
        "\n",
        "Which means : There is an **inverse relationship** between **price** and the number of **reviews**: cheaper listings get more reviews, while expensive listings tend to have fewer.\n",
        "\n"
      ],
      "metadata": {
        "id": "KxtSj5jHJNlU"
      },
      "id": "KxtSj5jHJNlU"
    },
    {
      "cell_type": "markdown",
      "source": [
        "###**4.4. Average Price of Airbnb Listings by Neighborhood Group**\n",
        "\n"
      ],
      "metadata": {
        "id": "0gfarK-pIi3y"
      },
      "id": "0gfarK-pIi3y"
    },
    {
      "cell_type": "markdown",
      "source": [
        "💡 **Objective:** Find out which neighborhood groups have the highest average listing prices.\n",
        "\n",
        "👉 Task: Use a bar plot to compare the average prices of Airbnb listings across different neighborhood groups. We'll keep the price cap applied to focus on the majority of listings."
      ],
      "metadata": {
        "id": "7_D821lWPtdX"
      },
      "id": "7_D821lWPtdX"
    },
    {
      "cell_type": "markdown",
      "source": [
        "####**Solution**"
      ],
      "metadata": {
        "id": "W69Nw9v5Wv0i"
      },
      "id": "W69Nw9v5Wv0i"
    },
    {
      "cell_type": "code",
      "source": [
        "# Task: Bar plot for average price per neighborhood group (with price cap)\n",
        "average_price_neighbourhood = df.groupby('neighbourhood_group')['price'].mean().sort_values(ascending=False)\n",
        "\n",
        "plt.figure(figsize=(10, 6))\n",
        "average_price_neighbourhood.plot(kind='bar', color='teal')\n",
        "plt.title('Average Price of Listings by Neighbourhood Group')\n",
        "plt.xlabel('Neighbourhood Group')\n",
        "plt.ylabel('Average Price (in USD)')\n",
        "plt.show()\n"
      ],
      "metadata": {
        "id": "-2nxIcCZJvCK"
      },
      "id": "-2nxIcCZJvCK",
      "execution_count": null,
      "outputs": []
    },
    {
      "cell_type": "markdown",
      "source": [
        "From the bar plot, we can see how Airbnb prices vary across NYC’s neighborhoods:\n",
        "\n",
        "- **Manhattan** tops the chart with average prices over $200 USD per night. This makes sense since it’s a prime location with high demand.\n",
        "\n",
        "- **Brooklyn** comes in next, with listings averaging around $150 USD—a popular, slightly more affordable option compared to Manhattan.\n",
        "\n",
        "- **Queens**, **Staten Island**, and the **Bronx** offer the most budget-friendly stays, all averaging under $100 USD per night, making them great choices for travelers looking for affordability.\n",
        "\n"
      ],
      "metadata": {
        "id": "LjBD-kPtKisd"
      },
      "id": "LjBD-kPtKisd"
    },
    {
      "cell_type": "markdown",
      "id": "00c3c0fc",
      "metadata": {
        "id": "00c3c0fc"
      },
      "source": [
        "## **Step 5: More Hands-On Exercises** 🖐️\n",
        "\n",
        "\n"
      ]
    },
    {
      "cell_type": "markdown",
      "source": [
        "Hands-On Practice: Your Turn! 🎉\n",
        "Here are some more questions you can try answering with your newly learned skills:\n",
        "\n",
        "1. **Which room types have the highest average number of reviews?**\n",
        "\n",
        "  👉  Hint: Group the data by room_type and calculate the average number of reviews.\n",
        "\n",
        "2. **Which host has the most listings?**\n",
        "\n",
        "  👉 Hint: Group the data by host_name and count the number of listings for each host.\n",
        "\n",
        "3. **Analyze the relationship between the number of bedrooms and price**\n",
        "\n",
        "  👉 Hint: Create a scatter plot with bedrooms on the x-axis and price on the y-axis to see how the number of bedrooms impacts price."
      ],
      "metadata": {
        "id": "ZoRL4tvEPxn9"
      },
      "id": "ZoRL4tvEPxn9"
    },
    {
      "cell_type": "markdown",
      "id": "63de4879",
      "metadata": {
        "id": "63de4879"
      },
      "source": [
        "## **Conclusion**  🎉"
      ]
    },
    {
      "cell_type": "markdown",
      "source": [
        " 🎉Congratulations! 🎉 You have completed the NYC Airbnb Data Analysis Project.\n",
        "\n",
        "This project provided hands-on experience with data cleaning, analysis, and visualization techniques using a real-world dataset. We explored key questions that offered insights into trends in Airbnb listings across New York City.\n",
        "\n",
        "**Continue exploring the dataset to uncover even more interesting patterns 🔍🕵️‍♂️ !**"
      ],
      "metadata": {
        "id": "S08I-vy_P6wm"
      },
      "id": "S08I-vy_P6wm"
    }
  ],
  "metadata": {
    "colab": {
      "provenance": [],
      "collapsed_sections": [
        "-oGbu-YnTzbc",
        "EHwAwbvHThzt",
        "XAgAkHZgT-K3",
        "2a4GY1CmUDf-",
        "ooeqTSH0UP5F",
        "iNWVdlxNUUH7",
        "d6T-Ekq_UalF",
        "W69Nw9v5Wv0i"
      ],
      "include_colab_link": true
    },
    "language_info": {
      "name": "python"
    },
    "kernelspec": {
      "name": "python3",
      "display_name": "Python 3"
    }
  },
  "nbformat": 4,
  "nbformat_minor": 5
}